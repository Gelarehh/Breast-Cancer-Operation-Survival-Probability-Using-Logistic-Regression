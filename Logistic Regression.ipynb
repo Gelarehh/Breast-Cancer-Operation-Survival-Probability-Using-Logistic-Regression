{
 "cells": [
  {
   "cell_type": "code",
   "execution_count": 1,
   "id": "ae51346e",
   "metadata": {},
   "outputs": [],
   "source": [
    "import pandas as pd\n",
    "import pylab as pl\n",
    "import numpy as np\n",
    "import scipy.optimize as opt\n",
    "from sklearn import preprocessing\n",
    "%matplotlib inline \n",
    "import matplotlib.pyplot as plt"
   ]
  },
  {
   "cell_type": "code",
   "execution_count": 2,
   "id": "3595b54f",
   "metadata": {},
   "outputs": [
    {
     "data": {
      "text/html": [
       "<div>\n",
       "<style scoped>\n",
       "    .dataframe tbody tr th:only-of-type {\n",
       "        vertical-align: middle;\n",
       "    }\n",
       "\n",
       "    .dataframe tbody tr th {\n",
       "        vertical-align: top;\n",
       "    }\n",
       "\n",
       "    .dataframe thead th {\n",
       "        text-align: right;\n",
       "    }\n",
       "</style>\n",
       "<table border=\"1\" class=\"dataframe\">\n",
       "  <thead>\n",
       "    <tr style=\"text-align: right;\">\n",
       "      <th></th>\n",
       "      <th>Age of patients</th>\n",
       "      <th>Year of Operation</th>\n",
       "      <th>Number of positive nodes</th>\n",
       "      <th>Survival status</th>\n",
       "    </tr>\n",
       "  </thead>\n",
       "  <tbody>\n",
       "    <tr>\n",
       "      <th>0</th>\n",
       "      <td>30</td>\n",
       "      <td>64</td>\n",
       "      <td>1</td>\n",
       "      <td>1</td>\n",
       "    </tr>\n",
       "    <tr>\n",
       "      <th>1</th>\n",
       "      <td>30</td>\n",
       "      <td>62</td>\n",
       "      <td>3</td>\n",
       "      <td>1</td>\n",
       "    </tr>\n",
       "    <tr>\n",
       "      <th>2</th>\n",
       "      <td>30</td>\n",
       "      <td>65</td>\n",
       "      <td>0</td>\n",
       "      <td>1</td>\n",
       "    </tr>\n",
       "    <tr>\n",
       "      <th>3</th>\n",
       "      <td>31</td>\n",
       "      <td>59</td>\n",
       "      <td>2</td>\n",
       "      <td>1</td>\n",
       "    </tr>\n",
       "    <tr>\n",
       "      <th>4</th>\n",
       "      <td>31</td>\n",
       "      <td>65</td>\n",
       "      <td>4</td>\n",
       "      <td>1</td>\n",
       "    </tr>\n",
       "  </tbody>\n",
       "</table>\n",
       "</div>"
      ],
      "text/plain": [
       "   Age of patients  Year of Operation  Number of positive nodes  \\\n",
       "0               30                 64                         1   \n",
       "1               30                 62                         3   \n",
       "2               30                 65                         0   \n",
       "3               31                 59                         2   \n",
       "4               31                 65                         4   \n",
       "\n",
       "   Survival status  \n",
       "0                1  \n",
       "1                1  \n",
       "2                1  \n",
       "3                1  \n",
       "4                1  "
      ]
     },
     "execution_count": 2,
     "metadata": {},
     "output_type": "execute_result"
    }
   ],
   "source": [
    "# Downloading Dataset\n",
    "\n",
    "col_names = ['Age of patients','Year of Operation','Number of positive nodes', 'Survival status'] #1=the patient survived 5 years or longer*2=the patient died within 5 year\n",
    "\n",
    "df = pd.read_csv(\"https://query.data.world/s/yvicka4w4y7hiqsaai2jfmn563b64d\", names=col_names)\n",
    "df.head()"
   ]
  },
  {
   "cell_type": "code",
   "execution_count": 3,
   "id": "0606071a",
   "metadata": {},
   "outputs": [
    {
     "data": {
      "text/plain": [
       "array([0, 0, 0, 0, 0, 0, 0, 1, 1, 0, 0, 0, 0, 0, 0, 0, 0, 0, 0, 0, 0, 0,\n",
       "       0, 0, 1, 0, 0, 0, 0, 0, 0, 0, 0, 0, 1, 0, 0, 0, 0, 0], dtype=int64)"
      ]
     },
     "execution_count": 3,
     "metadata": {},
     "output_type": "execute_result"
    }
   ],
   "source": [
    "# Data Selection and Normalization\n",
    "\n",
    "X = np.asarray(df[['Age of patients','Year of Operation','Number of positive nodes']])\n",
    "X[0:5]\n",
    "y = np.asarray(df['Survival status']-1)\n",
    "y [0:40]"
   ]
  },
  {
   "cell_type": "code",
   "execution_count": 4,
   "id": "f3cbe850",
   "metadata": {},
   "outputs": [
    {
     "data": {
      "text/plain": [
       "array([[-2.08214014,  0.35358406, -0.42159203],\n",
       "       [-2.08214014, -0.26292148, -0.14295885],\n",
       "       [-2.08214014,  0.66183684, -0.56090862],\n",
       "       [-1.98942552, -1.18767981, -0.28227544],\n",
       "       [-1.98942552,  0.66183684, -0.00364226]])"
      ]
     },
     "execution_count": 4,
     "metadata": {},
     "output_type": "execute_result"
    }
   ],
   "source": [
    "from sklearn import preprocessing\n",
    "X = preprocessing.StandardScaler().fit(X).transform(X)\n",
    "X[0:5]"
   ]
  },
  {
   "cell_type": "code",
   "execution_count": 5,
   "id": "0289f857",
   "metadata": {},
   "outputs": [
    {
     "name": "stdout",
     "output_type": "stream",
     "text": [
      "Train set: (244, 3) (244,)\n",
      "Test set: (62, 3) (62,)\n"
     ]
    }
   ],
   "source": [
    "# Dataset Splitting\n",
    "\n",
    "from sklearn.model_selection import train_test_split\n",
    "X_train, X_test, y_train, y_test = train_test_split( X, y, test_size=0.2, random_state=4)\n",
    "print ('Train set:', X_train.shape,  y_train.shape)\n",
    "print ('Test set:', X_test.shape,  y_test.shape)"
   ]
  },
  {
   "cell_type": "code",
   "execution_count": 6,
   "id": "20d9cac8",
   "metadata": {},
   "outputs": [
    {
     "data": {
      "text/plain": [
       "array([[0.51792407, 0.48207593],\n",
       "       [0.51581716, 0.48418284],\n",
       "       [0.52035726, 0.47964274],\n",
       "       [0.51448965, 0.48551035],\n",
       "       [0.51156052, 0.48843948],\n",
       "       [0.51384957, 0.48615043],\n",
       "       [0.50355978, 0.49644022],\n",
       "       [0.51586316, 0.48413684],\n",
       "       [0.52103975, 0.47896025],\n",
       "       [0.50231512, 0.49768488],\n",
       "       [0.51764987, 0.48235013],\n",
       "       [0.51347749, 0.48652251],\n",
       "       [0.52126723, 0.47873277],\n",
       "       [0.51359854, 0.48640146],\n",
       "       [0.51727498, 0.48272502],\n",
       "       [0.50874896, 0.49125104],\n",
       "       [0.51261196, 0.48738804],\n",
       "       [0.51952869, 0.48047131],\n",
       "       [0.5144744 , 0.4855256 ],\n",
       "       [0.51548942, 0.48451058],\n",
       "       [0.51651176, 0.48348824],\n",
       "       [0.51678539, 0.48321461],\n",
       "       [0.51228113, 0.48771887],\n",
       "       [0.51699033, 0.48300967],\n",
       "       [0.51732159, 0.48267841],\n",
       "       [0.51592144, 0.48407856],\n",
       "       [0.51087658, 0.48912342],\n",
       "       [0.50976989, 0.49023011],\n",
       "       [0.5012992 , 0.4987008 ],\n",
       "       [0.51582881, 0.48417119],\n",
       "       [0.51422339, 0.48577661],\n",
       "       [0.51594772, 0.48405228],\n",
       "       [0.51685531, 0.48314469],\n",
       "       [0.51840193, 0.48159807],\n",
       "       [0.51495309, 0.48504691],\n",
       "       [0.51741061, 0.48258939],\n",
       "       [0.51942385, 0.48057615],\n",
       "       [0.49981881, 0.50018119],\n",
       "       [0.51655837, 0.48344163],\n",
       "       [0.51225545, 0.48774455],\n",
       "       [0.51445109, 0.48554891],\n",
       "       [0.51301844, 0.48698156],\n",
       "       [0.5122892 , 0.4877108 ],\n",
       "       [0.51861847, 0.48138153],\n",
       "       [0.51648039, 0.48351961],\n",
       "       [0.51556618, 0.48443382],\n",
       "       [0.5144744 , 0.4855256 ],\n",
       "       [0.5095705 , 0.4904295 ],\n",
       "       [0.51516912, 0.48483088],\n",
       "       [0.51790077, 0.48209923],\n",
       "       [0.51349783, 0.48650217],\n",
       "       [0.5194158 , 0.4805842 ],\n",
       "       [0.51815166, 0.48184834],\n",
       "       [0.51406799, 0.48593201],\n",
       "       [0.51515237, 0.48484763],\n",
       "       [0.50634081, 0.49365919],\n",
       "       [0.51903865, 0.48096135],\n",
       "       [0.51744556, 0.48255444],\n",
       "       [0.51585212, 0.48414788],\n",
       "       [0.4962654 , 0.5037346 ],\n",
       "       [0.5125229 , 0.4874771 ],\n",
       "       [0.51299872, 0.48700128]])"
      ]
     },
     "execution_count": 6,
     "metadata": {},
     "output_type": "execute_result"
    }
   ],
   "source": [
    "# Modeling\n",
    "\n",
    "from sklearn.linear_model import LogisticRegression\n",
    "from sklearn.metrics import confusion_matrix\n",
    "LR = LogisticRegression(C=0.001, solver='liblinear').fit(X_train,y_train)\n",
    "\n",
    "# Predict\n",
    "yhat = LR.predict(X_test)\n",
    "\n",
    "# Probability Prediction\n",
    "yhat_prob = LR.predict_proba(X_test)\n",
    "yhat_prob"
   ]
  },
  {
   "cell_type": "code",
   "execution_count": 7,
   "id": "5d3455a3",
   "metadata": {},
   "outputs": [
    {
     "data": {
      "text/plain": [
       "0.7666666666666667"
      ]
     },
     "execution_count": 7,
     "metadata": {},
     "output_type": "execute_result"
    }
   ],
   "source": [
    "# Evaluation Using Jaccard Metric\n",
    "\n",
    "from sklearn.metrics import jaccard_score\n",
    "jaccard_score(y_test, yhat, pos_label=0)"
   ]
  },
  {
   "cell_type": "code",
   "execution_count": 8,
   "id": "1663842d",
   "metadata": {},
   "outputs": [
    {
     "data": {
      "text/plain": [
       "0.6757611562172934"
      ]
     },
     "execution_count": 8,
     "metadata": {},
     "output_type": "execute_result"
    }
   ],
   "source": [
    "# Evaluation Using Jaccard Metric\n",
    "\n",
    "from sklearn.metrics import log_loss\n",
    "log_loss(y_test, yhat_prob)"
   ]
  },
  {
   "cell_type": "code",
   "execution_count": 9,
   "id": "b663c583",
   "metadata": {},
   "outputs": [
    {
     "name": "stdout",
     "output_type": "stream",
     "text": [
      "[[ 2 14]\n",
      " [ 0 46]]\n"
     ]
    }
   ],
   "source": [
    "# Evaluation Using Confusion Matrix\n",
    "\n",
    "from sklearn.metrics import classification_report, confusion_matrix\n",
    "import itertools\n",
    "def plot_confusion_matrix(cm, classes,\n",
    "                          normalize=False,\n",
    "                          title='Confusion matrix',\n",
    "                          cmap=plt.cm.Blues):\n",
    "    \"\"\"\n",
    "    This function prints and plots the confusion matrix.\n",
    "    Normalization can be applied by setting `normalize=True`.\n",
    "    \"\"\"\n",
    "    if normalize:\n",
    "        cm = cm.astype('float') / cm.sum(axis=1)[:, np.newaxis]\n",
    "        print(\"Normalized confusion matrix\")\n",
    "    else:\n",
    "        print('Confusion matrix, without normalization')\n",
    "\n",
    "    print(cm)\n",
    "\n",
    "    plt.imshow(cm, interpolation='nearest', cmap=cmap)\n",
    "    plt.title(title)\n",
    "    plt.colorbar()\n",
    "    tick_marks = np.arange(len(classes))\n",
    "    plt.xticks(tick_marks, classes, rotation=45)\n",
    "    plt.yticks(tick_marks, classes)\n",
    "\n",
    "    fmt = '.2f' if normalize else 'd'\n",
    "    thresh = cm.max() / 2.\n",
    "    for i, j in itertools.product(range(cm.shape[0]), range(cm.shape[1])):\n",
    "        plt.text(j, i, format(cm[i, j], fmt),\n",
    "                 horizontalalignment=\"center\",\n",
    "                 color=\"white\" if cm[i, j] > thresh else \"black\")\n",
    "\n",
    "    plt.tight_layout()\n",
    "    plt.ylabel('True label')\n",
    "    plt.xlabel('Predicted label')\n",
    "print(confusion_matrix(y_test, yhat, labels=[1,0]))"
   ]
  },
  {
   "cell_type": "code",
   "execution_count": 10,
   "id": "7b1487ce",
   "metadata": {},
   "outputs": [
    {
     "name": "stdout",
     "output_type": "stream",
     "text": [
      "Confusion matrix, without normalization\n",
      "[[ 2 14]\n",
      " [ 0 46]]\n"
     ]
    },
    {
     "data": {
      "image/png": "[encoded data removed]",
      "text/plain": [
       "<Figure size 432x288 with 2 Axes>"
      ]
     },
     "metadata": {
      "needs_background": "light"
     },
     "output_type": "display_data"
    }
   ],
   "source": [
    "# Compute Confusion Matrix\n",
    "\n",
    "cnf_matrix = confusion_matrix(y_test, yhat, labels=[1,0])\n",
    "np.set_printoptions(precision=2)\n",
    "plt.figure()\n",
    "plot_confusion_matrix(cnf_matrix, classes=['Survival Class=1','Survival Class=0'],normalize= False,  title='Confusion matrix')"
   ]
  },
  {
   "cell_type": "code",
   "execution_count": 11,
   "id": "0f528aea",
   "metadata": {},
   "outputs": [
    {
     "name": "stdout",
     "output_type": "stream",
     "text": [
      "              precision    recall  f1-score   support\n",
      "\n",
      "           0       0.77      1.00      0.87        46\n",
      "           1       1.00      0.12      0.22        16\n",
      "\n",
      "    accuracy                           0.77        62\n",
      "   macro avg       0.88      0.56      0.55        62\n",
      "weighted avg       0.83      0.77      0.70        62\n",
      "\n"
     ]
    }
   ],
   "source": [
    "print (classification_report(y_test, yhat))"
   ]
  }
 ],
 "metadata": {
  "kernelspec": {
   "display_name": "Python 3",
   "language": "python",
   "name": "python3"
  },
  "language_info": {
   "codemirror_mode": {
    "name": "ipython",
    "version": 3
   },
   "file_extension": ".py",
   "mimetype": "text/x-python",
   "name": "python",
   "nbconvert_exporter": "python",
   "pygments_lexer": "ipython3",
   "version": "3.8.8"
  }
 },
 "nbformat": 4,
 "nbformat_minor": 5
}
